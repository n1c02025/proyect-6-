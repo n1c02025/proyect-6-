{
  "nbformat": 4,
  "nbformat_minor": 0,
  "metadata": {
    "colab": {
      "provenance": [],
      "authorship_tag": "ABX9TyOQzqvuh0BSlpt/DzWEQsVT",
      "include_colab_link": true
    },
    "kernelspec": {
      "name": "python3",
      "display_name": "Python 3"
    },
    "language_info": {
      "name": "python"
    }
  },
  "cells": [
    {
      "cell_type": "markdown",
      "metadata": {
        "id": "view-in-github",
        "colab_type": "text"
      },
      "source": [
        "<a href=\"https://colab.research.google.com/github/n1c02025/proyect-6-/blob/main/test.ipynb\" target=\"_parent\"><img src=\"https://colab.research.google.com/assets/colab-badge.svg\" alt=\"Open In Colab\"/></a>"
      ]
    },
    {
      "cell_type": "code",
      "source": [],
      "metadata": {
        "id": "-D_FGFX9r_Py"
      },
      "execution_count": null,
      "outputs": []
    },
    {
      "cell_type": "code",
      "execution_count": 1,
      "metadata": {
        "colab": {
          "base_uri": "https://localhost:8080/",
          "height": 0
        },
        "id": "_gy92xbrrIcW",
        "outputId": "2d1ab77e-5f8f-40fb-b357-8a31d507bddb"
      },
      "outputs": [
        {
          "output_type": "execute_result",
          "data": {
            "text/plain": [
              "4"
            ]
          },
          "metadata": {},
          "execution_count": 1
        }
      ],
      "source": [
        "1+3"
      ]
    },
    {
      "cell_type": "markdown",
      "metadata": {
        "id": "7b7eface"
      },
      "source": [
        "# Task\n",
        "Generate a personality test in the role of a psychoanalyst to determine if a referral to a psychologist is necessary for students aged 20-31 in Posadas, Misiones, Argentina, focusing on risk tolerance and motivation with cross-validation."
      ]
    },
    {
      "cell_type": "markdown",
      "metadata": {
        "id": "b09d54dc"
      },
      "source": [
        "## Define the test structure and questions\n",
        "\n",
        "### Subtask:\n",
        "Based on the psychoanalyst persona and the target demographic, design a set of questions to assess risk tolerance and motivation, keeping in mind the need for cross-validation.\n"
      ]
    },
    {
      "cell_type": "markdown",
      "metadata": {
        "id": "f611297a"
      },
      "source": [
        "**Reasoning**:\n",
        "I need to design a set of questions for a personality test based on the persona of a psychoanalyst, targeting young adults in Posadas, Misiones, Argentina, focusing on risk tolerance and motivation. I will draft a set of questions that cover these areas, considering the cultural context and the need for cross-validation. I will use a mix of question types and structure them in a way that allows for different sets to assess similar constructs. I will then review and refine these questions. Since this is a design task, I will output the questions as a structured list within a code block.\n",
        "\n"
      ]
    },
    {
      "cell_type": "code",
      "metadata": {
        "colab": {
          "base_uri": "https://localhost:8080/"
        },
        "id": "7123d1f1",
        "outputId": "8e32b2da-eb0e-48e5-f930-e180233b0c0a"
      },
      "source": [
        "# Diseñar preguntas para un test de personalidad que evalúe la tolerancia al riesgo y la motivación en adultos jóvenes (20-31)\n",
        "# en Posadas, Misiones, Argentina, desde la perspectiva de un psicoanalista, considerando la validación cruzada.\n",
        "\n",
        "questions = {\n",
        "    \"risk_tolerance\": [\n",
        "        {\n",
        "            \"id\": \"RT1\",\n",
        "            \"text\": \"¿Cómo se siente usted generalmente ante situaciones inciertas o con resultados impredecibles en sus estudios o vida personal?\",\n",
        "            \"type\": \"likert\",\n",
        "            \"scale\": [\"Muy incómodo\", \"Incómodo\", \"Neutral\", \"Cómodo\", \"Muy cómodo\"],\n",
        "            \"dimension\": \"Respuesta emocional a la incertidumbre\"\n",
        "        },\n",
        "        {\n",
        "            \"id\": \"RT2\",\n",
        "            \"text\": \"Imagine que tiene la oportunidad de emprender un proyecto académico innovador pero con altas probabilidades de fracaso. ¿Cuál sería su inclinación inicial?\",\n",
        "            \"type\": \"multiple_choice\",\n",
        "            \"options\": [\n",
        "                \"Evitaría el proyecto por completo.\",\n",
        "                \"Lo consideraría con mucha cautela, analizando todos los riesgos.\",\n",
        "                \"Me sentiría intrigado y exploraría la posibilidad, a pesar de los riesgos.\",\n",
        "                \"Me lanzaría al proyecto con entusiasmo, viendo el fracaso como una oportunidad de aprendizaje.\"\n",
        "            ],\n",
        "            \"dimension\": \"Inclinación conductual hacia el riesgo\"\n",
        "        },\n",
        "        {\n",
        "            \"id\": \"RT3\",\n",
        "            \"text\": \"Describe una situación reciente en la que haya tenido que tomar una decisión con un grado significativo de riesgo. ¿Cómo manejó la ansiedad o el miedo asociado a esa decisión?\",\n",
        "            \"type\": \"open_ended\",\n",
        "            \"dimension\": \"Mecanismos de afrontamiento del riesgo\"\n",
        "        },\n",
        "         {\n",
        "            \"id\": \"RT4\",\n",
        "            \"text\": \"¿Con qué frecuencia busca activamente nuevas experiencias o desafíos que impliquen un cierto nivel de riesgo personal o académico?\",\n",
        "            \"type\": \"likert\",\n",
        "            \"scale\": [\"Nunca\", \"Raramente\", \"A veces\", \"Frecuentemente\", \"Siempre\"],\n",
        "            \"dimension\": \"Búsqueda de experiencias novedosas/riesgosas\"\n",
        "        }\n",
        "    ],\n",
        "    \"motivation\": [\n",
        "        {\n",
        "            \"id\": \"M1\",\n",
        "            \"text\": \"¿Qué le impulsa principalmente a esforzarse en sus estudios o en sus metas personales?\",\n",
        "            \"type\": \"multiple_choice\",\n",
        "            \"options\": [\n",
        "                \"La presión externa (familia, expectativas sociales).\",\n",
        "                \"El deseo de evitar el fracaso o la crítica.\",\n",
        "                \"La búsqueda de recompensas tangibles (buenas notas, reconocimiento).\",\n",
        "                \"La satisfacción intrínseca de aprender y superarse a sí mismo.\",\n",
        "                 \"El deseo de contribuir a su comunidad o hacer una diferencia.\"\n",
        "            ],\n",
        "            \"dimension\": \"Fuente de motivación\"\n",
        "        },\n",
        "        {\n",
        "            \"id\": \"M2\",\n",
        "            \"text\": \"Cuando enfrenta un obstáculo significativo en su camino, ¿cuál suele ser su reacción inicial y cómo mantiene la persistencia?\",\n",
        "            \"type\": \"open_ended\",\n",
        "            \"dimension\": \"Persistencia y resiliencia\"\n",
        "        },\n",
        "        {\n",
        "            \"id\": \"M3\",\n",
        "            \"text\": \"¿Qué tan importante es para usted establecer metas a largo plazo y trabajar consistentemente para alcanzarlas?\",\n",
        "            \"type\": \"likert\",\n",
        "            \"scale\": [\"Nada importante\", \"Poco importante\", \"Medianamente importante\", \"Importante\", \"Muy importante\"],\n",
        "            \"dimension\": \"Orientación a metas y planificación\"\n",
        "        },\n",
        "         {\n",
        "            \"id\": \"M4\",\n",
        "            \"text\": \"Si tiene múltiples tareas o proyectos, ¿cómo prioriza y se mantiene enfocado, especialmente cuando la motivación inicial disminuye?\",\n",
        "            \"type\": \"open_ended\",\n",
        "            \"dimension\": \"Autorregulación y enfoque\"\n",
        "        }\n",
        "    ],\n",
        "    \"cross_validation_sets\": {\n",
        "        \"set_A\": [\"RT1\", \"RT2\", \"M1\", \"M2\"],\n",
        "        \"set_B\": [\"RT3\", \"RT4\", \"M3\", \"M4\"]\n",
        "        # Estos conjuntos se pueden utilizar para evaluar la consistencia de las respuestas en constructos similares\n",
        "        # a través de diferentes tipos de preguntas o formulaciones. Se pueden añadir más conjuntos según sea necesario.\n",
        "    }\n",
        "}\n",
        "\n",
        "import json\n",
        "print(json.dumps(questions, indent=4, ensure_ascii=False))"
      ],
      "execution_count": 2,
      "outputs": [
        {
          "output_type": "stream",
          "name": "stdout",
          "text": [
            "{\n",
            "    \"risk_tolerance\": [\n",
            "        {\n",
            "            \"id\": \"RT1\",\n",
            "            \"text\": \"¿Cómo se siente usted generalmente ante situaciones inciertas o con resultados impredecibles en sus estudios o vida personal?\",\n",
            "            \"type\": \"likert\",\n",
            "            \"scale\": [\n",
            "                \"Muy incómodo\",\n",
            "                \"Incómodo\",\n",
            "                \"Neutral\",\n",
            "                \"Cómodo\",\n",
            "                \"Muy cómodo\"\n",
            "            ],\n",
            "            \"dimension\": \"Emotional response to uncertainty\"\n",
            "        },\n",
            "        {\n",
            "            \"id\": \"RT2\",\n",
            "            \"text\": \"Imagine que tiene la oportunidad de emprender un proyecto académico innovador pero con altas probabilidades de fracaso. ¿Cuál sería su inclinación inicial?\",\n",
            "            \"type\": \"multiple_choice\",\n",
            "            \"options\": [\n",
            "                \"Evitaría el proyecto por completo.\",\n",
            "                \"Lo consideraría con mucha cautela, analizando todos los riesgos.\",\n",
            "                \"Me sentiría intrigado y exploraría la posibilidad, a pesar de los riesgos.\",\n",
            "                \"Me lanzaría al proyecto con entusiasmo, viendo el fracaso como una oportunidad de aprendizaje.\"\n",
            "            ],\n",
            "            \"dimension\": \"Behavioral inclination towards risk\"\n",
            "        },\n",
            "        {\n",
            "            \"id\": \"RT3\",\n",
            "            \"text\": \"Describe una situación reciente en la que haya tenido que tomar una decisión con un grado significativo de riesgo. ¿Cómo manejó la ansiedad o el miedo asociado a esa decisión?\",\n",
            "            \"type\": \"open_ended\",\n",
            "            \"dimension\": \"Coping mechanisms for risk\"\n",
            "        },\n",
            "        {\n",
            "            \"id\": \"RT4\",\n",
            "            \"text\": \"¿Con qué frecuencia busca activamente nuevas experiencias o desafíos que impliquen un cierto nivel de riesgo personal o académico?\",\n",
            "            \"type\": \"likert\",\n",
            "            \"scale\": [\n",
            "                \"Nunca\",\n",
            "                \"Raramente\",\n",
            "                \"A veces\",\n",
            "                \"Frecuentemente\",\n",
            "                \"Siempre\"\n",
            "            ],\n",
            "            \"dimension\": \"Seeking of novel/risky experiences\"\n",
            "        }\n",
            "    ],\n",
            "    \"motivation\": [\n",
            "        {\n",
            "            \"id\": \"M1\",\n",
            "            \"text\": \"¿Qué le impulsa principalmente a esforzarse en sus estudios o en sus metas personales?\",\n",
            "            \"type\": \"multiple_choice\",\n",
            "            \"options\": [\n",
            "                \"La presión externa (familia, expectativas sociales).\",\n",
            "                \"El deseo de evitar el fracaso o la crítica.\",\n",
            "                \"La búsqueda de recompensas tangibles (buenas notas, reconocimiento).\",\n",
            "                \"La satisfacción intrínseca de aprender y superarse a sí mismo.\",\n",
            "                \"El deseo de contribuir a su comunidad o hacer una diferencia.\"\n",
            "            ],\n",
            "            \"dimension\": \"Source of motivation\"\n",
            "        },\n",
            "        {\n",
            "            \"id\": \"M2\",\n",
            "            \"text\": \"Cuando enfrenta un obstáculo significativo en su camino, ¿cuál suele ser su reacción inicial y cómo mantiene la persistencia?\",\n",
            "            \"type\": \"open_ended\",\n",
            "            \"dimension\": \"Persistence and resilience\"\n",
            "        },\n",
            "        {\n",
            "            \"id\": \"M3\",\n",
            "            \"text\": \"¿Qué tan importante es para usted establecer metas a largo plazo y trabajar consistentemente para alcanzarlas?\",\n",
            "            \"type\": \"likert\",\n",
            "            \"scale\": [\n",
            "                \"Nada importante\",\n",
            "                \"Poco importante\",\n",
            "                \"Medianamente importante\",\n",
            "                \"Importante\",\n",
            "                \"Muy importante\"\n",
            "            ],\n",
            "            \"dimension\": \"Goal orientation and planning\"\n",
            "        },\n",
            "        {\n",
            "            \"id\": \"M4\",\n",
            "            \"text\": \"Si tiene múltiples tareas o proyectos, ¿cómo prioriza y se mantiene enfocado, especialmente cuando la motivación inicial disminuye?\",\n",
            "            \"type\": \"open_ended\",\n",
            "            \"dimension\": \"Self-regulation and focus\"\n",
            "        }\n",
            "    ],\n",
            "    \"cross_validation_sets\": {\n",
            "        \"set_A\": [\n",
            "            \"RT1\",\n",
            "            \"RT2\",\n",
            "            \"M1\",\n",
            "            \"M2\"\n",
            "        ],\n",
            "        \"set_B\": [\n",
            "            \"RT3\",\n",
            "            \"RT4\",\n",
            "            \"M3\",\n",
            "            \"M4\"\n",
            "        ]\n",
            "    }\n",
            "}\n"
          ]
        }
      ]
    },
    {
      "cell_type": "markdown",
      "metadata": {
        "id": "6c6a0450"
      },
      "source": [
        "## Implement the test\n",
        "\n",
        "### Subtask:\n",
        "Create a way to present the test to the user and collect their responses. This could be a simple text-based test or a more interactive format.\n"
      ]
    },
    {
      "cell_type": "markdown",
      "metadata": {
        "id": "acaae473"
      },
      "source": [
        "**Reasoning**:\n",
        "Iterate through the questions and collect user responses based on the question type.\n",
        "\n"
      ]
    },
    {
      "cell_type": "code",
      "metadata": {
        "colab": {
          "base_uri": "https://localhost:8080/"
        },
        "id": "86b02c81",
        "outputId": "e4d19169-50f9-4c59-cdfe-1834fd325ea1"
      },
      "source": [
        "user_responses = {}\n",
        "\n",
        "print(\"Bienvenido al test de personalidad.\")\n",
        "print(\"Por favor, responda las siguientes preguntas.\")\n",
        "print(\"-\" * 30)\n",
        "\n",
        "for category in ['risk_tolerance', 'motivation']:\n",
        "    for question in questions[category]:\n",
        "        print(f\"\\n{question['text']}\")\n",
        "\n",
        "        if question['type'] == 'likert':\n",
        "            print(\"Por favor, seleccione una opción de la siguiente escala:\")\n",
        "            for i, option in enumerate(question['scale']):\n",
        "                print(f\"{i + 1}. {option}\")\n",
        "            while True:\n",
        "                try:\n",
        "                    response_index = int(input(\"Su respuesta (número): \")) - 1\n",
        "                    if 0 <= response_index < len(question['scale']):\n",
        "                        user_responses[question['id']] = question['scale'][response_index]\n",
        "                        break\n",
        "                    else:\n",
        "                        print(\"Respuesta inválida. Por favor, ingrese un número dentro del rango.\")\n",
        "                except ValueError:\n",
        "                    print(\"Entrada inválida. Por favor, ingrese un número.\")\n",
        "\n",
        "        elif question['type'] == 'multiple_choice':\n",
        "            print(\"Por favor, seleccione una opción:\")\n",
        "            for i, option in enumerate(question['options']):\n",
        "                print(f\"{i + 1}. {option}\")\n",
        "            while True:\n",
        "                try:\n",
        "                    response_index = int(input(\"Su respuesta (número): \")) - 1\n",
        "                    if 0 <= response_index < len(question['options']):\n",
        "                        user_responses[question['id']] = question['options'][response_index]\n",
        "                        break\n",
        "                    else:\n",
        "                        print(\"Respuesta inválida. Por favor, ingrese un número dentro del rango.\")\n",
        "                except ValueError:\n",
        "                    print(\"Entrada inválida. Por favor, ingrese un número.\")\n",
        "\n",
        "        elif question['type'] == 'open_ended':\n",
        "            response = input(\"Su respuesta: \")\n",
        "            user_responses[question['id']] = response\n",
        "\n",
        "print(\"-\" * 30)\n",
        "print(\"Gracias por completar el test.\")\n",
        "\n",
        "# Mostrar respuestas recopiladas (opcional)\n",
        "# print(\"\\nRespuestas recopiladas:\")\n",
        "# for q_id, response in user_responses.items():\n",
        "#     print(f\"{q_id}: {response}\")"
      ],
      "execution_count": 3,
      "outputs": [
        {
          "output_type": "stream",
          "name": "stdout",
          "text": [
            "Bienvenido al test de personalidad.\n",
            "Por favor, responda las siguientes preguntas.\n",
            "------------------------------\n",
            "\n",
            "¿Cómo se siente usted generalmente ante situaciones inciertas o con resultados impredecibles en sus estudios o vida personal?\n",
            "Por favor, seleccione una opción de la siguiente escala:\n",
            "1. Muy incómodo\n",
            "2. Incómodo\n",
            "3. Neutral\n",
            "4. Cómodo\n",
            "5. Muy cómodo\n",
            "Su respuesta (número): 31\n",
            "Respuesta inválida. Por favor, ingrese un número dentro del rango.\n",
            "Su respuesta (número): 20-31\n",
            "Entrada inválida. Por favor, ingrese un número.\n",
            "Su respuesta (número): 2\n",
            "\n",
            "Imagine que tiene la oportunidad de emprender un proyecto académico innovador pero con altas probabilidades de fracaso. ¿Cuál sería su inclinación inicial?\n",
            "Por favor, seleccione una opción:\n",
            "1. Evitaría el proyecto por completo.\n",
            "2. Lo consideraría con mucha cautela, analizando todos los riesgos.\n",
            "3. Me sentiría intrigado y exploraría la posibilidad, a pesar de los riesgos.\n",
            "4. Me lanzaría al proyecto con entusiasmo, viendo el fracaso como una oportunidad de aprendizaje.\n",
            "Su respuesta (número): 4\n",
            "\n",
            "Describe una situación reciente en la que haya tenido que tomar una decisión con un grado significativo de riesgo. ¿Cómo manejó la ansiedad o el miedo asociado a esa decisión?\n",
            "Su respuesta: De Manera Positiva \n",
            "\n",
            "¿Con qué frecuencia busca activamente nuevas experiencias o desafíos que impliquen un cierto nivel de riesgo personal o académico?\n",
            "Por favor, seleccione una opción de la siguiente escala:\n",
            "1. Nunca\n",
            "2. Raramente\n",
            "3. A veces\n",
            "4. Frecuentemente\n",
            "5. Siempre\n",
            "Su respuesta (número): 5\n",
            "\n",
            "¿Qué le impulsa principalmente a esforzarse en sus estudios o en sus metas personales?\n",
            "Por favor, seleccione una opción:\n",
            "1. La presión externa (familia, expectativas sociales).\n",
            "2. El deseo de evitar el fracaso o la crítica.\n",
            "3. La búsqueda de recompensas tangibles (buenas notas, reconocimiento).\n",
            "4. La satisfacción intrínseca de aprender y superarse a sí mismo.\n",
            "5. El deseo de contribuir a su comunidad o hacer una diferencia.\n",
            "Su respuesta (número): 5\n",
            "\n",
            "Cuando enfrenta un obstáculo significativo en su camino, ¿cuál suele ser su reacción inicial y cómo mantiene la persistencia?\n",
            "Su respuesta: La reaccion suele ser dura al principio, pero se fija un objetivo para lograr salir de ese obstaculo.\n",
            "\n",
            "¿Qué tan importante es para usted establecer metas a largo plazo y trabajar consistentemente para alcanzarlas?\n",
            "Por favor, seleccione una opción de la siguiente escala:\n",
            "1. Nada importante\n",
            "2. Poco importante\n",
            "3. Medianamente importante\n",
            "4. Importante\n",
            "5. Muy importante\n",
            "Su respuesta (número): 5\n",
            "\n",
            "Si tiene múltiples tareas o proyectos, ¿cómo prioriza y se mantiene enfocado, especialmente cuando la motivación inicial disminuye?\n",
            "Su respuesta: se prioriza la mas importante.\n",
            "------------------------------\n",
            "Gracias por completar el test.\n"
          ]
        }
      ]
    },
    {
      "cell_type": "markdown",
      "metadata": {
        "id": "3d2994a3"
      },
      "source": [
        "## Develop scoring and interpretation logic\n",
        "\n",
        "### Subtask:\n",
        "Define how the responses will be scored to assess risk tolerance and motivation, and establish criteria for recommending a referral to a psychologist.\n"
      ]
    },
    {
      "cell_type": "markdown",
      "metadata": {
        "id": "50c849b2"
      },
      "source": [
        "**Reasoning**:\n",
        "I need to define a scoring system for the collected responses and establish criteria for referral. I will create functions to score the Likert and multiple-choice questions and then calculate overall scores per dimension. Finally, I will define simple threshold-based criteria for referral.\n",
        "\n"
      ]
    },
    {
      "cell_type": "code",
      "metadata": {
        "colab": {
          "base_uri": "https://localhost:8080/",
          "height": 408
        },
        "id": "82bac385",
        "outputId": "bacd9ac1-6641-48a5-a492-d11ad0544bf8"
      },
      "source": [
        "def score_response(question_id, response, questions):\n",
        "    \"\"\"Puntúa una única respuesta basada en el tipo de pregunta y escalas/opciones predefinidas.\"\"\"\n",
        "    score = 0\n",
        "    for category in questions:\n",
        "        for question in questions[category]:\n",
        "            if question['id'] == question_id:\n",
        "                if question['type'] == 'likert':\n",
        "                    # Asignar puntuaciones basadas en la posición en la escala (por ejemplo, 0 para la primera opción, 4 para la última)\n",
        "                    try:\n",
        "                        score = question['scale'].index(response)\n",
        "                    except ValueError:\n",
        "                        score = 0 # Manejar casos donde la respuesta no coincide con la escala\n",
        "                elif question['type'] == 'multiple_choice':\n",
        "                    # Asignar puntuaciones basadas en la posición en las opciones\n",
        "                    # Esto asume una progresión en la tolerancia al riesgo/motivación a través de las opciones\n",
        "                    try:\n",
        "                        score = question['options'].index(response)\n",
        "                    except ValueError:\n",
        "                         score = 0 # Manejar casos donde la respuesta no coincide con las opciones\n",
        "                elif question['type'] == 'open_ended':\n",
        "                    # Las preguntas abiertas requieren evaluación cualitativa.\n",
        "                    # Para esta implementación, asignaremos una puntuación de marcador de posición (por ejemplo, -1)\n",
        "                    # y notaremos que estas necesitan revisión manual.\n",
        "                    score = -1 # Indica necesidad de revisión manual\n",
        "                break # Encontró la pregunta, no es necesario buscar más\n",
        "    return score\n",
        "\n",
        "def calculate_dimension_scores(user_responses, questions):\n",
        "    \"\"\"Calcula las puntuaciones para cada dimensión (tolerancia_riesgo y motivación).\"\"\"\n",
        "    dimension_scores = {'risk_tolerance': [], 'motivation': []}\n",
        "    open_ended_responses = {}\n",
        "\n",
        "    for q_id, response in user_responses.items():\n",
        "        score = score_response(q_id, response, questions)\n",
        "        # Encontrar la dimensión para la pregunta actual\n",
        "        dimension = None\n",
        "        for cat, q_list in questions.items():\n",
        "            for q in q_list:\n",
        "                if q['id'] == q_id:\n",
        "                    dimension = cat\n",
        "                    break\n",
        "            if dimension:\n",
        "                break\n",
        "\n",
        "        if dimension:\n",
        "            if score != -1:\n",
        "                dimension_scores[dimension].append(score)\n",
        "            else:\n",
        "                open_ended_responses[q_id] = response # Almacenar respuestas abiertas por separado\n",
        "\n",
        "    # Calcular la puntuación promedio por dimensión, ignorando marcadores de posición abiertos\n",
        "    averaged_scores = {}\n",
        "    for dimension, scores_list in dimension_scores.items():\n",
        "        if scores_list:\n",
        "            averaged_scores[dimension] = sum(scores_list) / len(scores_list)\n",
        "        else:\n",
        "            averaged_scores[dimension] = 0 # Manejar caso sin preguntas puntuables en una dimensión\n",
        "\n",
        "    return averaged_scores, open_ended_responses\n",
        "\n",
        "def recommend_referral(averaged_scores, open_ended_responses):\n",
        "    \"\"\"Establece criterios para recomendar una derivación a un psicólogo.\"\"\"\n",
        "    referral_needed = False\n",
        "    reasons = []\n",
        "\n",
        "    # Criterios de ejemplo (estos son ilustrativos y deben ser definidos por un profesional calificado):\n",
        "    # - Una puntuación baja en tolerancia al riesgo podría indicar evitación o ansiedad.\n",
        "    # - Una puntuación baja en motivación podría indicar falta de impulso o posible depresión.\n",
        "    # - Las respuestas abiertas podrían revelar patrones o pensamientos preocupantes.\n",
        "\n",
        "    if averaged_scores.get('risk_tolerance', 0) < 1: # Asumiendo una escala donde las puntuaciones más bajas significan menor tolerancia\n",
        "        referral_needed = True\n",
        "        reasons.append(\"Puntaje bajo en tolerancia al riesgo, lo que podría indicar evitación o ansiedad.\")\n",
        "\n",
        "    if averaged_scores.get('motivation', 0) < 1: # Asumiendo una escala donde las puntuaciones más bajas significan menor motivación\n",
        "        referral_needed = True\n",
        "        reasons.append(\"Puntaje bajo en motivación, lo que podría sugerir falta de impulso o posible estado depresivo.\")\n",
        "\n",
        "    # Verificar si hay respuestas abiertas, indicando la necesidad de revisión manual\n",
        "    if open_ended_responses:\n",
        "         referral_needed = True\n",
        "         reasons.append(\"Respuestas abiertas requieren revisión cualitativa por un profesional.\")\n",
        "\n",
        "\n",
        "    return referral_needed, reasons\n",
        "\n",
        "# --- Ejecutar puntuación y recomendación de derivación ---\n",
        "averaged_scores, open_ended_responses = calculate_dimension_scores(user_responses, questions)\n",
        "referral, referral_reasons = recommend_referral(averaged_scores, open_ended_responses)\n",
        "\n",
        "print(\"\\nPuntajes promedio por dimensión:\")\n",
        "print(f\"Tolerancia al Riesgo: {averaged_scores.get('risk_tolerance', 'N/A'):.2f}\")\n",
        "print(f\"Motivación: {averaged_scores.get('motivation', 'N/A'):.2f}\")\n",
        "\n",
        "if referral:\n",
        "    print(\"\\nRecomendación: Se sugiere una derivación a un psicólogo.\")\n",
        "    print(\"Razones:\")\n",
        "    for reason in referral_reasons:\n",
        "        print(f\"- {reason}\")\n",
        "else:\n",
        "    print(\"\\nNo se considera necesaria una derivación en este momento según los criterios establecidos.\")\n",
        "\n",
        "# Nota sobre respuestas abiertas\n",
        "if open_ended_responses:\n",
        "    print(\"\\nNota: Las siguientes respuestas abiertas requieren revisión manual:\")\n",
        "    for q_id, response in open_ended_responses.items():\n",
        "        print(f\"{q_id}: {response}\")"
      ],
      "execution_count": 4,
      "outputs": [
        {
          "output_type": "error",
          "ename": "TypeError",
          "evalue": "string indices must be integers, not 'str'",
          "traceback": [
            "\u001b[0;31m---------------------------------------------------------------------------\u001b[0m",
            "\u001b[0;31mTypeError\u001b[0m                                 Traceback (most recent call last)",
            "\u001b[0;32m/tmp/ipython-input-2264104566.py\u001b[0m in \u001b[0;36m<cell line: 0>\u001b[0;34m()\u001b[0m\n\u001b[1;32m     86\u001b[0m \u001b[0;34m\u001b[0m\u001b[0m\n\u001b[1;32m     87\u001b[0m \u001b[0;31m# --- Execute scoring and referral recommendation ---\u001b[0m\u001b[0;34m\u001b[0m\u001b[0;34m\u001b[0m\u001b[0m\n\u001b[0;32m---> 88\u001b[0;31m \u001b[0maveraged_scores\u001b[0m\u001b[0;34m,\u001b[0m \u001b[0mopen_ended_responses\u001b[0m \u001b[0;34m=\u001b[0m \u001b[0mcalculate_dimension_scores\u001b[0m\u001b[0;34m(\u001b[0m\u001b[0muser_responses\u001b[0m\u001b[0;34m,\u001b[0m \u001b[0mquestions\u001b[0m\u001b[0;34m)\u001b[0m\u001b[0;34m\u001b[0m\u001b[0;34m\u001b[0m\u001b[0m\n\u001b[0m\u001b[1;32m     89\u001b[0m \u001b[0mreferral\u001b[0m\u001b[0;34m,\u001b[0m \u001b[0mreferral_reasons\u001b[0m \u001b[0;34m=\u001b[0m \u001b[0mrecommend_referral\u001b[0m\u001b[0;34m(\u001b[0m\u001b[0maveraged_scores\u001b[0m\u001b[0;34m,\u001b[0m \u001b[0mopen_ended_responses\u001b[0m\u001b[0;34m)\u001b[0m\u001b[0;34m\u001b[0m\u001b[0;34m\u001b[0m\u001b[0m\n\u001b[1;32m     90\u001b[0m \u001b[0;34m\u001b[0m\u001b[0m\n",
            "\u001b[0;32m/tmp/ipython-input-2264104566.py\u001b[0m in \u001b[0;36mcalculate_dimension_scores\u001b[0;34m(user_responses, questions)\u001b[0m\n\u001b[1;32m     32\u001b[0m \u001b[0;34m\u001b[0m\u001b[0m\n\u001b[1;32m     33\u001b[0m     \u001b[0;32mfor\u001b[0m \u001b[0mq_id\u001b[0m\u001b[0;34m,\u001b[0m \u001b[0mresponse\u001b[0m \u001b[0;32min\u001b[0m \u001b[0muser_responses\u001b[0m\u001b[0;34m.\u001b[0m\u001b[0mitems\u001b[0m\u001b[0;34m(\u001b[0m\u001b[0;34m)\u001b[0m\u001b[0;34m:\u001b[0m\u001b[0;34m\u001b[0m\u001b[0;34m\u001b[0m\u001b[0m\n\u001b[0;32m---> 34\u001b[0;31m         \u001b[0mscore\u001b[0m \u001b[0;34m=\u001b[0m \u001b[0mscore_response\u001b[0m\u001b[0;34m(\u001b[0m\u001b[0mq_id\u001b[0m\u001b[0;34m,\u001b[0m \u001b[0mresponse\u001b[0m\u001b[0;34m,\u001b[0m \u001b[0mquestions\u001b[0m\u001b[0;34m)\u001b[0m\u001b[0;34m\u001b[0m\u001b[0;34m\u001b[0m\u001b[0m\n\u001b[0m\u001b[1;32m     35\u001b[0m         \u001b[0;31m# Find the dimension for the current question\u001b[0m\u001b[0;34m\u001b[0m\u001b[0;34m\u001b[0m\u001b[0m\n\u001b[1;32m     36\u001b[0m         \u001b[0mdimension\u001b[0m \u001b[0;34m=\u001b[0m \u001b[0;32mNone\u001b[0m\u001b[0;34m\u001b[0m\u001b[0;34m\u001b[0m\u001b[0m\n",
            "\u001b[0;32m/tmp/ipython-input-2264104566.py\u001b[0m in \u001b[0;36mscore_response\u001b[0;34m(question_id, response, questions)\u001b[0m\n\u001b[1;32m      4\u001b[0m     \u001b[0;32mfor\u001b[0m \u001b[0mcategory\u001b[0m \u001b[0;32min\u001b[0m \u001b[0mquestions\u001b[0m\u001b[0;34m:\u001b[0m\u001b[0;34m\u001b[0m\u001b[0;34m\u001b[0m\u001b[0m\n\u001b[1;32m      5\u001b[0m         \u001b[0;32mfor\u001b[0m \u001b[0mquestion\u001b[0m \u001b[0;32min\u001b[0m \u001b[0mquestions\u001b[0m\u001b[0;34m[\u001b[0m\u001b[0mcategory\u001b[0m\u001b[0;34m]\u001b[0m\u001b[0;34m:\u001b[0m\u001b[0;34m\u001b[0m\u001b[0;34m\u001b[0m\u001b[0m\n\u001b[0;32m----> 6\u001b[0;31m             \u001b[0;32mif\u001b[0m \u001b[0mquestion\u001b[0m\u001b[0;34m[\u001b[0m\u001b[0;34m'id'\u001b[0m\u001b[0;34m]\u001b[0m \u001b[0;34m==\u001b[0m \u001b[0mquestion_id\u001b[0m\u001b[0;34m:\u001b[0m\u001b[0;34m\u001b[0m\u001b[0;34m\u001b[0m\u001b[0m\n\u001b[0m\u001b[1;32m      7\u001b[0m                 \u001b[0;32mif\u001b[0m \u001b[0mquestion\u001b[0m\u001b[0;34m[\u001b[0m\u001b[0;34m'type'\u001b[0m\u001b[0;34m]\u001b[0m \u001b[0;34m==\u001b[0m \u001b[0;34m'likert'\u001b[0m\u001b[0;34m:\u001b[0m\u001b[0;34m\u001b[0m\u001b[0;34m\u001b[0m\u001b[0m\n\u001b[1;32m      8\u001b[0m                     \u001b[0;31m# Assign scores based on position in the scale (e.g., 0 for first option, 4 for last)\u001b[0m\u001b[0;34m\u001b[0m\u001b[0;34m\u001b[0m\u001b[0m\n",
            "\u001b[0;31mTypeError\u001b[0m: string indices must be integers, not 'str'"
          ]
        }
      ]
    },
    {
      "cell_type": "markdown",
      "metadata": {
        "id": "60c2c380"
      },
      "source": [
        "**Reasoning**:\n",
        "The traceback indicates a `TypeError` because I am trying to access `questions` with a string key (`category`) inside the `score_response` function, but `questions` is being passed as a list in the inner loop of `calculate_dimension_scores`. The `score_response` function should iterate through the *categories* of questions first, and then the questions within each category to find the matching `question_id`. I need to fix the iteration logic within `score_response` to correctly access the question details.\n",
        "\n"
      ]
    },
    {
      "cell_type": "code",
      "metadata": {
        "colab": {
          "base_uri": "https://localhost:8080/"
        },
        "id": "-JaZy8IKx4i2",
        "outputId": "6fe438d5-6003-47fe-f7ac-5d16f43738c7"
      },
      "source": [
        "def score_response(question_id, response, questions):\n",
        "    \"\"\"Puntúa una única respuesta basada en el tipo de pregunta y escalas/opciones predefinidas.\"\"\"\n",
        "    score = 0\n",
        "    # Iterar a través de las categorías (por ejemplo, 'risk_tolerance', 'motivation')\n",
        "    for category, question_list in questions.items():\n",
        "        # Iterar a través de las preguntas dentro de cada categoría\n",
        "        for question in question_list:\n",
        "            if question['id'] == question_id:\n",
        "                if question['type'] == 'likert':\n",
        "                    # Asignar puntuaciones basadas en la posición en la escala (por ejemplo, 0 para la primera opción, 4 para la última)\n",
        "                    try:\n",
        "                        score = question['scale'].index(response)\n",
        "                    except ValueError:\n",
        "                        score = 0 # Manejar casos donde la respuesta no coincide con la escala\n",
        "                elif question['type'] == 'multiple_choice':\n",
        "                    # Asignar puntuaciones basadas en la posición en las opciones\n",
        "                    # Esto asume una progresión en la tolerancia al riesgo/motivación a través de las opciones\n",
        "                    try:\n",
        "                        score = question['options'].index(response)\n",
        "                    except ValueError:\n",
        "                         score = 0 # Manejar casos donde la respuesta no coincide con las opciones\n",
        "                elif question['type'] == 'open_ended':\n",
        "                    # Las preguntas abiertas requieren evaluación cualitativa.\n",
        "                    # Para esta implementación, asignaremos una puntuación de marcador de posición (por ejemplo, -1)\n",
        "                    # y notaremos que estas necesitan revisión manual.\n",
        "                    score = -1 # Indica necesidad de revisión manual\n",
        "                return score # Encontró la pregunta y la puntuó, devolver la puntuación\n",
        "    return score # Devolver 0 si no se encuentra el question_id (no debería ocurrir si la lógica es correcta)\n",
        "\n",
        "def calculate_dimension_scores(user_responses, questions):\n",
        "    \"\"\"Calcula las puntuaciones para cada dimensión (tolerancia_riesgo y motivación).\"\"\"\n",
        "    dimension_scores = {'risk_tolerance': [], 'motivation': []}\n",
        "    open_ended_responses = {}\n",
        "\n",
        "    for q_id, response in user_responses.items():\n",
        "        score = score_response(q_id, response, questions)\n",
        "        # Encontrar la dimensión para la pregunta actual\n",
        "        dimension = None\n",
        "        for cat, q_list in questions.items():\n",
        "            for q in q_list:\n",
        "                if q['id'] == q_id:\n",
        "                    dimension = cat\n",
        "                    break\n",
        "            if dimension:\n",
        "                break\n",
        "\n",
        "        if dimension:\n",
        "            if score != -1:\n",
        "                dimension_scores[dimension].append(score)\n",
        "            else:\n",
        "                open_ended_responses[q_id] = response # Almacenar respuestas abiertas por separado\n",
        "\n",
        "    # Calcular la puntuación promedio por dimensión, ignorando marcadores de posición abiertos\n",
        "    averaged_scores = {}\n",
        "    for dimension, scores_list in dimension_scores.items():\n",
        "        if scores_list:\n",
        "            averaged_scores[dimension] = sum(scores_list) / len(scores_list)\n",
        "        else:\n",
        "            averaged_scores[dimension] = 0 # Manejar caso sin preguntas puntuables en una dimensión\n",
        "\n",
        "    return averaged_scores, open_ended_responses\n",
        "\n",
        "def recommend_referral(averaged_scores, open_ended_responses):\n",
        "    \"\"\"Establece criterios para recomendar una derivación a un psicólogo.\"\"\"\n",
        "    referral_needed = False\n",
        "    reasons = []\n",
        "\n",
        "    # Criterios de ejemplo (estos son ilustrativos y deben ser definidos por un profesional calificado):\n",
        "    # - Una puntuación baja en tolerancia al riesgo podría indicar evitación o ansiedad.\n",
        "    # - Una puntuación baja en motivación podría indicar falta de impulso o posible depresión.\n",
        "    # - Las respuestas abiertas podrían revelar patrones o pensamientos preocupantes.\n",
        "\n",
        "    # Nota: La puntuación asume que un índice más alto significa mayor tolerancia al riesgo/motivación.\n",
        "    # Ajustar el umbral en función del rango real de la escala (Likert 0-4, Opción Múltiple 0-3/4)\n",
        "    # Una puntuación inferior a 1 podría ser apropiada para escalas donde 0 es el valor más bajo.\n",
        "\n",
        "    if averaged_scores.get('risk_tolerance', 0) < 1: # Asumiendo una escala donde las puntuaciones más bajas significan menor tolerancia/motivación\n",
        "        referral_needed = True\n",
        "        reasons.append(\"Puntaje bajo en tolerancia al riesgo, lo que podría indicar evitación o ansiedad.\")\n",
        "\n",
        "    if averaged_scores.get('motivation', 0) < 1: # Asumiendo una escala donde las puntuaciones más bajas significan menor motivación\n",
        "        referral_needed = True\n",
        "        reasons.append(\"Puntaje bajo en motivación, lo que podría sugerir falta de impulso o posible estado depresivo.\")\n",
        "\n",
        "    # Verificar si hay respuestas abiertas, indicando la necesidad de revisión manual\n",
        "    # Este es un fuerte indicador de derivación en un contexto psicoanalítico.\n",
        "    if open_ended_responses:\n",
        "         referral_needed = True\n",
        "         reasons.append(\"Presencia de respuestas abiertas que requieren revisión cualitativa detallada por un profesional.\")\n",
        "\n",
        "\n",
        "    return referral_needed, reasons\n",
        "\n",
        "# --- Ejecutar puntuación y recomendación de derivación ---\n",
        "averaged_scores, open_ended_responses = calculate_dimension_scores(user_responses, questions)\n",
        "referral, referral_reasons = recommend_referral(averaged_scores, open_ended_responses)\n",
        "\n",
        "print(\"\\nPuntajes promedio por dimensión:\")\n",
        "print(f\"Tolerancia al Riesgo: {averaged_scores.get('risk_tolerance', 'N/A'):.2f}\")\n",
        "print(f\"Motivación: {averaged_scores.get('motivation', 'N/A'):.2f}\")\n",
        "\n",
        "if referral:\n",
        "    print(\"\\nRecomendación: Se sugiere una derivación a un psicólogo.\")\n",
        "    print(\"Razones:\")\n",
        "    for reason in referral_reasons:\n",
        "        print(f\"- {reason}\")\n",
        "else:\n",
        "    print(\"\\nNo se considera necesaria una derivación en este momento según los criterios establecidos.\")\n",
        "\n",
        "# Nota sobre respuestas abiertas\n",
        "if open_ended_responses:\n",
        "    print(\"\\nNota: Las siguientes respuestas abiertas requieren revisión manual:\")\n",
        "    for q_id, response in open_ended_responses.items():\n",
        "        print(f\"{q_id}: {response}\")"
      ],
      "execution_count": 5,
      "outputs": [
        {
          "output_type": "stream",
          "name": "stdout",
          "text": [
            "\n",
            "Puntajes promedio por dimensión:\n",
            "Tolerancia al Riesgo: 2.67\n",
            "Motivación: 4.00\n",
            "\n",
            "Recomendación: Se sugiere una derivación a un psicólogo.\n",
            "Razones:\n",
            "- Presencia de respuestas abiertas que requieren revisión cualitativa detallada por un profesional.\n",
            "\n",
            "Nota: Las siguientes respuestas abiertas requieren revisión manual:\n",
            "RT3: De Manera Positiva \n",
            "M2: La reaccion suele ser dura al principio, pero se fija un objetivo para lograr salir de ese obstaculo.\n",
            "M4: se prioriza la mas importante.\n"
          ]
        }
      ]
    },
    {
      "cell_type": "markdown",
      "metadata": {
        "id": "324d54fa"
      },
      "source": [
        "## Incorporate cross-validation\n",
        "\n",
        "### Subtask:\n",
        "Design a method to validate the test results, potentially by comparing responses to different sets of questions or using statistical methods.\n"
      ]
    },
    {
      "cell_type": "markdown",
      "metadata": {
        "id": "eeaa8661"
      },
      "source": [
        "**Reasoning**:\n",
        "Separate the user responses into two sets based on the cross-validation sets defined in the questions dictionary.\n",
        "\n"
      ]
    },
    {
      "cell_type": "code",
      "metadata": {
        "colab": {
          "base_uri": "https://localhost:8080/"
        },
        "id": "9669eb14",
        "outputId": "f8cd2d88-4fbd-49dc-db23-d508b6d7a4dc"
      },
      "source": [
        "user_responses_set_A = {q_id: user_responses[q_id] for q_id in questions['cross_validation_sets']['set_A'] if q_id in user_responses}\n",
        "user_responses_set_B = {q_id: user_responses[q_id] for q_id in questions['cross_validation_sets']['set_B'] if q_id in user_responses}\n",
        "\n",
        "print(\"Respuestas del usuario para el Conjunto A:\")\n",
        "print(user_responses_set_A)\n",
        "print(\"\\nRespuestas del usuario para el Conjunto B:\")\n",
        "print(user_responses_set_B)"
      ],
      "execution_count": 6,
      "outputs": [
        {
          "output_type": "stream",
          "name": "stdout",
          "text": [
            "User responses for Set A:\n",
            "{'RT1': 'Incómodo', 'RT2': 'Me lanzaría al proyecto con entusiasmo, viendo el fracaso como una oportunidad de aprendizaje.', 'M1': 'El deseo de contribuir a su comunidad o hacer una diferencia.', 'M2': 'La reaccion suele ser dura al principio, pero se fija un objetivo para lograr salir de ese obstaculo.'}\n",
            "\n",
            "User responses for Set B:\n",
            "{'RT3': 'De Manera Positiva ', 'RT4': 'Siempre', 'M3': 'Muy importante', 'M4': 'se prioriza la mas importante.'}\n"
          ]
        }
      ]
    },
    {
      "cell_type": "markdown",
      "metadata": {
        "id": "96a1f902"
      },
      "source": [
        "**Reasoning**:\n",
        "Calculate the averaged scores for each set of responses using the previously defined `calculate_dimension_scores` function.\n",
        "\n"
      ]
    },
    {
      "cell_type": "code",
      "metadata": {
        "colab": {
          "base_uri": "https://localhost:8080/"
        },
        "id": "5e560f4a",
        "outputId": "b3266577-372a-4efd-8ee0-3ce6f8d8168c"
      },
      "source": [
        "averaged_scores_set_A, open_ended_responses_set_A = calculate_dimension_scores(user_responses_set_A, questions)\n",
        "averaged_scores_set_B, open_ended_responses_set_B = calculate_dimension_scores(user_responses_set_B, questions)\n",
        "\n",
        "print(\"\\nPuntuaciones promedio para el Conjunto A:\")\n",
        "print(averaged_scores_set_A)\n",
        "print(\"\\nPuntuaciones promedio para el Conjunto B:\")\n",
        "print(averaged_scores_set_B)"
      ],
      "execution_count": 7,
      "outputs": [
        {
          "output_type": "stream",
          "name": "stdout",
          "text": [
            "\n",
            "Averaged scores for Set A:\n",
            "{'risk_tolerance': 2.0, 'motivation': 4.0}\n",
            "\n",
            "Averaged scores for Set B:\n",
            "{'risk_tolerance': 4.0, 'motivation': 4.0}\n"
          ]
        }
      ]
    },
    {
      "cell_type": "markdown",
      "metadata": {
        "id": "0c6f3d81"
      },
      "source": [
        "**Reasoning**:\n",
        "Compare the averaged scores between the two sets and determine if the cross-validation is successful based on a predefined threshold.\n",
        "\n"
      ]
    },
    {
      "cell_type": "code",
      "metadata": {
        "colab": {
          "base_uri": "https://localhost:8080/"
        },
        "id": "0b3ed17c",
        "outputId": "a2538198-651c-48ef-c6cd-76a57f9b1533"
      },
      "source": [
        "# Definir un umbral de consistencia (por ejemplo, una diferencia de menos de 1 punto)\n",
        "consistency_threshold = 1.0\n",
        "cross_validation_successful = True\n",
        "consistency_reasons = []\n",
        "\n",
        "print(\"\\nComparando puntuaciones promedio entre el Conjunto A y el Conjunto B:\")\n",
        "\n",
        "for dimension in ['risk_tolerance', 'motivation']:\n",
        "    score_A = averaged_scores_set_A.get(dimension, 0)\n",
        "    score_B = averaged_scores_set_B.get(dimension, 0)\n",
        "    difference = abs(score_A - score_B)\n",
        "\n",
        "    print(f\"Dimensión: {dimension}\")\n",
        "    print(f\"  Puntuación Conjunto A: {score_A:.2f}\")\n",
        "    print(f\"  Puntuación Conjunto B: {score_B:.2f}\")\n",
        "    print(f\"  Diferencia: {difference:.2f}\")\n",
        "\n",
        "    if difference > consistency_threshold:\n",
        "        cross_validation_successful = False\n",
        "        consistency_reasons.append(f\"La diferencia de puntuación para '{dimension}' ({difference:.2f}) excede el umbral ({consistency_threshold}).\")\n",
        "        print(f\"  -> La diferencia excede el umbral.\")\n",
        "    else:\n",
        "        print(f\"  -> La diferencia está dentro del umbral.\")\n",
        "\n",
        "print(\"\\nValidación cruzada exitosa:\", cross_validation_successful)\n",
        "if not cross_validation_successful:\n",
        "    print(\"Razones del fallo de la validación cruzada:\")\n",
        "    for reason in consistency_reasons:\n",
        "        print(f\"- {reason}\")"
      ],
      "execution_count": 8,
      "outputs": [
        {
          "output_type": "stream",
          "name": "stdout",
          "text": [
            "\n",
            "Comparing averaged scores between Set A and Set B:\n",
            "Dimension: risk_tolerance\n",
            "  Set A Score: 2.00\n",
            "  Set B Score: 4.00\n",
            "  Difference: 2.00\n",
            "  -> Difference exceeds threshold.\n",
            "Dimension: motivation\n",
            "  Set A Score: 4.00\n",
            "  Set B Score: 4.00\n",
            "  Difference: 0.00\n",
            "  -> Difference is within threshold.\n",
            "\n",
            "Cross-validation successful: False\n",
            "Reasons for cross-validation failure:\n",
            "- Score difference for 'risk_tolerance' (2.00) exceeds the threshold (1.0).\n"
          ]
        }
      ]
    },
    {
      "cell_type": "markdown",
      "metadata": {
        "id": "148292ee"
      },
      "source": [
        "## Generate recommendations\n",
        "\n",
        "### Subtask:\n",
        "Generate recommendations regarding the need for a referral to a psychologist based on the scoring and validation results.\n"
      ]
    },
    {
      "cell_type": "markdown",
      "metadata": {
        "id": "15e3cb52"
      },
      "source": [
        "**Reasoning**:\n",
        "Check the values of `referral` and `cross_validation_successful` and print the appropriate recommendation message based on the conditions outlined in the instructions.\n",
        "\n"
      ]
    },
    {
      "cell_type": "code",
      "metadata": {
        "colab": {
          "base_uri": "https://localhost:8080/"
        },
        "id": "765fd4f9",
        "outputId": "5e68188c-a2cc-4f9f-a2d8-37e580931a1e"
      },
      "source": [
        "if referral:\n",
        "    print(\"\\nRecomendación: Se sugiere una derivación a un psicólogo.\")\n",
        "    print(\"Razones:\")\n",
        "    for reason in referral_reasons:\n",
        "        print(f\"- {reason}\")\n",
        "elif not referral and not cross_validation_successful:\n",
        "    print(\"\\nRecomendación: No se considera necesaria una derivación en este momento según los criterios de puntuación iniciales.\")\n",
        "    print(\"Sin embargo, la inconsistencia en los resultados del test (validación cruzada fallida) sugiere que podría ser beneficiosa una evaluación adicional.\")\n",
        "    print(\"La diferencia en las puntuaciones entre los dos conjuntos de preguntas plantea interrogantes sobre la fiabilidad de la evaluación en esta ocasión.\")\n",
        "elif not referral and cross_validation_successful:\n",
        "    print(\"\\nRecomendación: No se considera necesaria una derivación a un psicólogo en este momento basándose en los resultados del test.\")"
      ],
      "execution_count": 9,
      "outputs": [
        {
          "output_type": "stream",
          "name": "stdout",
          "text": [
            "\n",
            "Recomendación: Se sugiere una derivación a un psicólogo.\n",
            "Razones:\n",
            "- Presencia de respuestas abiertas que requieren revisión cualitativa detallada por un profesional.\n"
          ]
        }
      ]
    },
    {
      "cell_type": "markdown",
      "metadata": {
        "id": "36407f00"
      },
      "source": [
        "## Present the test and results\n",
        "\n",
        "### Subtask:\n",
        "Display the test to the user and present the results and recommendations in a clear and understandable format.\n"
      ]
    },
    {
      "cell_type": "markdown",
      "metadata": {
        "id": "295dcb67"
      },
      "source": [
        "**Reasoning**:\n",
        "Print a welcoming message, iterate through the questions, collect user responses, calculate and display scores, determine and display the referral recommendation, include cross-validation notes, and remind about open-ended responses, grouping all the remaining steps into a single code block.\n",
        "\n"
      ]
    },
    {
      "cell_type": "code",
      "metadata": {
        "colab": {
          "base_uri": "https://localhost:8080/"
        },
        "id": "38564e1f",
        "outputId": "c28dcf77-4cf1-4bc7-9fcb-a2ce59a51884"
      },
      "source": [
        "# 1. Imprimir un mensaje de bienvenida explicando el propósito del test desde la perspectiva del psicoanalista.\n",
        "print(\"Bienvenido. Como psicoanalista, le invito a participar en este breve test diseñado para explorar aspectos de su tolerancia al riesgo y motivación.\")\n",
        "print(\"Sus respuestas nos ayudarán a obtener una comprensión preliminar que podría ser relevante para su bienestar psicológico.\")\n",
        "print(\"-\" * 70)\n",
        "\n",
        "# 2. Iterar a través de las preguntas, presentar cada pregunta al usuario y recopilar sus respuestas.\n",
        "user_responses = {} # Reiniciar user_responses para recopilar nuevas entradas para la visualización completa del test\n",
        "for category in ['risk_tolerance', 'motivation']:\n",
        "    for question in questions[category]:\n",
        "        print(f\"\\n{question['text']}\")\n",
        "\n",
        "        if question['type'] == 'likert':\n",
        "            print(\"Por favor, seleccione una opción de la siguiente escala:\")\n",
        "            for i, option in enumerate(question['scale']):\n",
        "                print(f\"{i + 1}. {option}\")\n",
        "            while True:\n",
        "                try:\n",
        "                    response_index = int(input(\"Su respuesta (número): \")) - 1\n",
        "                    if 0 <= response_index < len(question['scale']):\n",
        "                        user_responses[question['id']] = question['scale'][response_index]\n",
        "                        break\n",
        "                    else:\n",
        "                        print(\"Respuesta inválida. Por favor, ingrese un número dentro del rango.\")\n",
        "                except ValueError:\n",
        "                    print(\"Entrada inválida. Por favor, ingrese un número.\")\n",
        "\n",
        "        elif question['type'] == 'multiple_choice':\n",
        "            print(\"Por favor, seleccione una opción:\")\n",
        "            for i, option in enumerate(question['options']):\n",
        "                print(f\"{i + 1}. {option}\")\n",
        "            while True:\n",
        "                try:\n",
        "                    response_index = int(input(\"Su respuesta (número): \")) - 1\n",
        "                    if 0 <= response_index < len(question['options']):\n",
        "                        user_responses[question['id']] = question['options'][response_index]\n",
        "                        break\n",
        "                    else:\n",
        "                        print(\"Respuesta inválida. Por favor, ingrese un número dentro del rango.\")\n",
        "                except ValueError:\n",
        "                    print(\"Entrada inválida. Por favor, ingrese un número.\")\n",
        "\n",
        "        elif question['type'] == 'open_ended':\n",
        "            response = input(\"Su respuesta: \")\n",
        "            user_responses[question['id']] = response\n",
        "\n",
        "print(\"-\" * 70)\n",
        "print(\"Gracias por completar el test.\")\n",
        "\n",
        "# 3. Calcular las puntuaciones promedio para cada dimensión ('risk_tolerance' y 'motivation') utilizando la función calculate_dimension_scores.\n",
        "averaged_scores, open_ended_responses = calculate_dimension_scores(user_responses, questions)\n",
        "\n",
        "# 4. Determinar si es necesaria una derivación basándose en las puntuaciones calculadas y la presencia de preguntas abiertas.\n",
        "referral, referral_reasons = recommend_referral(averaged_scores, open_ended_responses)\n",
        "\n",
        "# 5. Separar las respuestas del usuario recopiladas en user_responses_set_A y user_responses_set_B.\n",
        "user_responses_set_A = {q_id: user_responses[q_id] for q_id in questions['cross_validation_sets']['set_A'] if q_id in user_responses}\n",
        "user_responses_set_B = {q_id: user_responses[q_id] for q_id in questions['cross_validation_sets']['set_B'] if q_id in user_responses}\n",
        "\n",
        "# 6. Calcular las puntuaciones promedio para user_responses_set_A y user_responses_set_B.\n",
        "averaged_scores_set_A, open_ended_responses_set_A = calculate_dimension_scores(user_responses_set_A, questions)\n",
        "averaged_scores_set_B, open_ended_responses_set_B = calculate_dimension_scores(user_responses_set_B, questions)\n",
        "\n",
        "# 7. Comparar las puntuaciones promedio del Conjunto A y el Conjunto B para realizar la validación cruzada.\n",
        "consistency_threshold = 1.0 # Re-definir para mayor claridad dentro de este bloque\n",
        "cross_validation_successful = True\n",
        "consistency_reasons = []\n",
        "\n",
        "for dimension in ['risk_tolerance', 'motivation']:\n",
        "    score_A = averaged_scores_set_A.get(dimension, 0)\n",
        "    score_B = averaged_scores_set_B.get(dimension, 0)\n",
        "    difference = abs(score_A - score_B)\n",
        "\n",
        "    if difference > consistency_threshold:\n",
        "        cross_validation_successful = False\n",
        "        consistency_reasons.append(f\"La diferencia de puntuación para '{dimension}' ({difference:.2f}) excede el umbral de consistencia ({consistency_threshold}).\")\n",
        "\n",
        "\n",
        "# 8. Presentar las puntuaciones promedio para el test completo.\n",
        "print(\"\\n--- Resultados del Test ---\")\n",
        "print(\"\\nPuntajes promedio para el test completo:\")\n",
        "print(f\"Tolerancia al Riesgo: {averaged_scores.get('risk_tolerance', 'N/A'):.2f}\")\n",
        "print(f\"Motivación: {averaged_scores.get('motivation', 'N/A'):.2f}\")\n",
        "\n",
        "# 9. Presentar claramente la recomendación sobre la necesidad de una derivación.\n",
        "if referral:\n",
        "    print(\"\\nRecomendación: Según los resultados, se sugiere una derivación a un profesional de la psicología para una evaluación más profunda.\")\n",
        "    print(\"Razones de la recomendación:\")\n",
        "    for reason in referral_reasons:\n",
        "        print(f\"- {reason}\")\n",
        "elif not referral and not cross_validation_successful:\n",
        "    print(\"\\nRecomendación: Según los criterios de puntuación iniciales, no se considera necesaria una derivación en este momento.\")\n",
        "    print(\"Sin embargo, hemos identificado algunas inconsistencias en sus respuestas (ver validación cruzada abajo) que podrían merecer una exploración adicional con un profesional.\")\n",
        "elif not referral and cross_validation_successful:\n",
        "    print(\"\\nRecomendación: Basado en los resultados de este test, no se considera necesaria una derivación a un profesional de la psicología en este momento.\")\n",
        "\n",
        "# 10. Incluir una nota sobre los resultados de la validación cruzada.\n",
        "print(\"\\n--- Validación Cruzada ---\")\n",
        "if cross_validation_successful:\n",
        "    print(\"La validación cruzada de sus respuestas indica una consistencia razonable entre los diferentes conjuntos de preguntas.\")\n",
        "    print(\"Esto sugiere que los resultados del test son relativamente fiables.\")\n",
        "else:\n",
        "    print(\"La validación cruzada de sus respuestas ha identificado algunas inconsistencias.\")\n",
        "    print(\"Esto significa que podría haber variabilidad en cómo abordó preguntas similares o que algunos aspectos requieren mayor claridad.\")\n",
        "    print(\"Razones de la inconsistencia:\")\n",
        "    for reason in consistency_reasons:\n",
        "        print(f\"- {reason}\")\n",
        "\n",
        "# 11. Si hubo respuestas abiertas, recordar al usuario que estas requieren revisión manual.\n",
        "if open_ended_responses:\n",
        "    print(\"\\n--- Nota Importante ---\")\n",
        "    print(\"Las respuestas a las preguntas abiertas ('open-ended') no se incluyen en los puntajes numéricos y requieren una revisión cualitativa por parte de un profesional.\")\n",
        "    print(\"Estas respuestas a menudo contienen información valiosa y matizada que es crucial para una evaluación completa.\")\n",
        "    # Opcionalmente, mostrar las respuestas abiertas de nuevo\n",
        "    # print(\"\\nRespuestas abiertas proporcionadas:\")\n",
        "    # for q_id, response in open_ended_responses.items():\n",
        "    #     print(f\"{q_id}: {response}\")\n",
        "\n",
        "print(\"-\" * 70)\n",
        "print(\"Este test es una herramienta de evaluación preliminar y no reemplaza la consulta con un profesional de la salud mental.\")"
      ],
      "execution_count": 10,
      "outputs": [
        {
          "output_type": "stream",
          "name": "stdout",
          "text": [
            "Bienvenido. Como psicoanalista, le invito a participar en este breve test diseñado para explorar aspectos de su tolerancia al riesgo y motivación.\n",
            "Sus respuestas nos ayudarán a obtener una comprensión preliminar que podría ser relevante para su bienestar psicológico.\n",
            "----------------------------------------------------------------------\n",
            "\n",
            "¿Cómo se siente usted generalmente ante situaciones inciertas o con resultados impredecibles en sus estudios o vida personal?\n",
            "Por favor, seleccione una opción de la siguiente escala:\n",
            "1. Muy incómodo\n",
            "2. Incómodo\n",
            "3. Neutral\n",
            "4. Cómodo\n",
            "5. Muy cómodo\n",
            "Su respuesta (número): 3\n",
            "\n",
            "Imagine que tiene la oportunidad de emprender un proyecto académico innovador pero con altas probabilidades de fracaso. ¿Cuál sería su inclinación inicial?\n",
            "Por favor, seleccione una opción:\n",
            "1. Evitaría el proyecto por completo.\n",
            "2. Lo consideraría con mucha cautela, analizando todos los riesgos.\n",
            "3. Me sentiría intrigado y exploraría la posibilidad, a pesar de los riesgos.\n",
            "4. Me lanzaría al proyecto con entusiasmo, viendo el fracaso como una oportunidad de aprendizaje.\n",
            "Su respuesta (número): 3\n",
            "\n",
            "Describe una situación reciente en la que haya tenido que tomar una decisión con un grado significativo de riesgo. ¿Cómo manejó la ansiedad o el miedo asociado a esa decisión?\n",
            "Su respuesta: aprender a darle tiempo a las cosas, es algo que tuve que aceptar.\n",
            "\n",
            "¿Con qué frecuencia busca activamente nuevas experiencias o desafíos que impliquen un cierto nivel de riesgo personal o académico?\n",
            "Por favor, seleccione una opción de la siguiente escala:\n",
            "1. Nunca\n",
            "2. Raramente\n",
            "3. A veces\n",
            "4. Frecuentemente\n",
            "5. Siempre\n",
            "Su respuesta (número): 4\n",
            "\n",
            "¿Qué le impulsa principalmente a esforzarse en sus estudios o en sus metas personales?\n",
            "Por favor, seleccione una opción:\n",
            "1. La presión externa (familia, expectativas sociales).\n",
            "2. El deseo de evitar el fracaso o la crítica.\n",
            "3. La búsqueda de recompensas tangibles (buenas notas, reconocimiento).\n",
            "4. La satisfacción intrínseca de aprender y superarse a sí mismo.\n",
            "5. El deseo de contribuir a su comunidad o hacer una diferencia.\n",
            "Su respuesta (número): 4\n",
            "\n",
            "Cuando enfrenta un obstáculo significativo en su camino, ¿cuál suele ser su reacción inicial y cómo mantiene la persistencia?\n",
            "Su respuesta: en primer lugar suele ser dura, pero para superarlo hay que aceptarlo y seguir luchando.\n",
            "\n",
            "¿Qué tan importante es para usted establecer metas a largo plazo y trabajar consistentemente para alcanzarlas?\n",
            "Por favor, seleccione una opción de la siguiente escala:\n",
            "1. Nada importante\n",
            "2. Poco importante\n",
            "3. Medianamente importante\n",
            "4. Importante\n",
            "5. Muy importante\n",
            "Su respuesta (número): 5\n",
            "\n",
            "Si tiene múltiples tareas o proyectos, ¿cómo prioriza y se mantiene enfocado, especialmente cuando la motivación inicial disminuye?\n",
            "Su respuesta: se priorisa lo fundamental, y para matenerme enfocado me fijo una meta.\n",
            "----------------------------------------------------------------------\n",
            "Gracias por completar el test.\n",
            "\n",
            "--- Resultados del Test ---\n",
            "\n",
            "Puntajes promedio para el test completo:\n",
            "Tolerancia al Riesgo: 2.33\n",
            "Motivación: 3.50\n",
            "\n",
            "Recomendación: Según los resultados, se sugiere una derivación a un profesional de la psicología para una evaluación más profunda.\n",
            "Razones de la recomendación:\n",
            "- Presencia de respuestas abiertas que requieren revisión cualitativa detallada por un profesional.\n",
            "\n",
            "--- Validación Cruzada ---\n",
            "La validación cruzada de sus respuestas indica una consistencia razonable entre los diferentes conjuntos de preguntas.\n",
            "Esto sugiere que los resultados del test son relativamente fiables.\n",
            "\n",
            "--- Nota Importante ---\n",
            "Las respuestas a las preguntas abiertas ('open-ended') no se incluyen en los puntajes numéricos y requieren una revisión cualitativa por parte de un profesional.\n",
            "Estas respuestas a menudo contienen información valiosa y matizada que es crucial para una evaluación completa.\n",
            "----------------------------------------------------------------------\n",
            "Este test es una herramienta de evaluación preliminar y no reemplaza la consulta con un profesional de la salud mental.\n"
          ]
        }
      ]
    },
    {
      "cell_type": "markdown",
      "metadata": {
        "id": "dbb2f719"
      },
      "source": [
        "## Summary:\n",
        "\n",
        "### Data Analysis Key Findings\n",
        "\n",
        "*   The personality test was successfully designed, incorporating questions on risk tolerance and motivation, structured for a target audience of students aged 20-31 in Posadas, Misiones, Argentina, and framed from a psychoanalyst's perspective.\n",
        "*   The test includes different question types: Likert scale, multiple choice, and open-ended.\n",
        "*   A functional method was developed to present the test questions to the user and collect their responses via console input, including basic input validation for structured question types.\n",
        "*   A scoring logic was implemented to assign numerical scores to Likert and multiple-choice responses and flag open-ended responses for manual review.\n",
        "*   Dimension scores for risk tolerance and motivation are calculated by averaging the numerical scores.\n",
        "*   Criteria for recommending a psychological referral were established based on low average scores in either dimension or the presence of open-ended responses requiring professional interpretation.\n",
        "*   A cross-validation method was implemented by dividing questions into two sets (Set A and Set B) and comparing the calculated dimension scores between these sets to assess the internal consistency of the test.\n",
        "*   The final presentation of the results includes averaged scores for the full test, a clear referral recommendation with reasons, and a summary of the cross-validation outcome, including reasons for inconsistency if detected.\n",
        "\n",
        "### Insights or Next Steps\n",
        "\n",
        "*   While the current scoring provides numerical summaries, incorporating a more nuanced qualitative analysis of the open-ended responses is crucial for a psychoanalytic assessment and a more accurate referral decision.\n",
        "*   Further validation with a larger sample size from the target demographic in Posadas would help refine the scoring thresholds and assess the test's reliability and validity in that specific cultural context.\n"
      ]
    }
  ]
}